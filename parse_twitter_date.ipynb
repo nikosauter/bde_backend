{
 "cells": [
  {
   "cell_type": "code",
   "execution_count": 62,
   "id": "22010b57-7990-4f6e-9d37-d1c79d57ddc7",
   "metadata": {},
   "outputs": [
    {
     "name": "stdout",
     "output_type": "stream",
     "text": [
      "+----------------------------+\n",
      "|timestamp_str               |\n",
      "+----------------------------+\n",
      "|Mon Jun 01 12:44:55 PDT 2009|\n",
      "+----------------------------+\n",
      "\n"
     ]
    }
   ],
   "source": [
    "from pyspark.sql import SparkSession\n",
    "from pyspark.sql.functions import unix_timestamp, from_unixtime\n",
    "\n",
    "# Create a Spark session\n",
    "spark = SparkSession.builder.appName(\"TimestampParsing\").getOrCreate()\n",
    "\n",
    "# Sample data\n",
    "data = [(\"Mon Jun 01 12:44:55 PDT 2009\",)]\n",
    "\n",
    "# Define a DataFrame with a single column named 'timestamp_str'\n",
    "df = spark.createDataFrame(data, [\"timestamp_str\"])\n",
    "\n",
    "df.show(truncate=False)\n"
   ]
  },
  {
   "cell_type": "code",
   "execution_count": 63,
   "id": "271e696d-f193-4688-82ea-d7edd8186fbb",
   "metadata": {},
   "outputs": [
    {
     "name": "stdout",
     "output_type": "stream",
     "text": [
      "+--------------------+\n",
      "|subtracted_timestamp|\n",
      "+--------------------+\n",
      "|2009-06-01 12:44:55 |\n",
      "+--------------------+\n",
      "\n"
     ]
    }
   ],
   "source": [
    "from pyspark.sql.functions import  expr\n",
    "\n",
    "spark.sql(\"set spark.sql.legacy.timeParserPolicy=LEGACY\")\n",
    "# Define the timestamp format\n",
    "timestamp_format = \"EEE MMM dd HH:mm:ss zzz yyyy\"\n",
    "\n",
    "# Use unix_timestamp to convert the string to a Unix timestamp\n",
    "df = df.withColumn(\"unix_timestamp\", unix_timestamp(\"timestamp_str\", timestamp_format)).withColumn(\"parsed_timestamp\", from_unixtime(\"unix_timestamp\")).withColumn(\"subtracted_timestamp\", expr(\"parsed_timestamp - interval 9 hours\"))\n",
    "\n",
    "df.select(\"subtracted_timestamp\").show(truncate=False)"
   ]
  },
  {
   "cell_type": "code",
   "execution_count": null,
   "id": "8ad9d6bd-0dec-45de-84c0-5b7b2262ca7e",
   "metadata": {},
   "outputs": [],
   "source": []
  }
 ],
 "metadata": {
  "kernelspec": {
   "display_name": "Python 3",
   "language": "python",
   "name": "python3"
  },
  "language_info": {
   "codemirror_mode": {
    "name": "ipython",
    "version": 3
   },
   "file_extension": ".py",
   "mimetype": "text/x-python",
   "name": "python",
   "nbconvert_exporter": "python",
   "pygments_lexer": "ipython3",
   "version": "3.8.8"
  }
 },
 "nbformat": 4,
 "nbformat_minor": 5
}
